{
 "cells": [
  {
   "cell_type": "code",
   "execution_count": 1,
   "metadata": {
    "_cell_guid": "b1076dfc-b9ad-4769-8c92-a6c4dae69d19",
    "_uuid": "8f2839f25d086af736a60e9eeb907d3b93b6e0e5",
    "execution": {
     "iopub.execute_input": "2022-07-28T10:24:39.396430Z",
     "iopub.status.busy": "2022-07-28T10:24:39.395381Z",
     "iopub.status.idle": "2022-07-28T10:24:45.953618Z",
     "shell.execute_reply": "2022-07-28T10:24:45.951838Z",
     "shell.execute_reply.started": "2022-07-28T10:24:39.395790Z"
    }
   },
   "outputs": [],
   "source": [
    "# This Python 3 environment comes with many helpful analytics libraries installed \n",
    "\n",
    "import numpy as np # linear algebra\n",
    "import pandas as pd # data processing, CSV file I/O (e.g. pd.read_csv)\n",
    "\n",
    "# Input data files are available in the \"../input/\" directory.\n",
    "# For example, running this (by clicking run or pressing Shift+Enter) will list the files in the input directory\n",
    "\n",
    "import os\n",
    "import string\n",
    "from string import digits\n",
    "import matplotlib.pyplot as plt\n",
    "%matplotlib inline\n",
    "import re\n",
    "\n",
    "import seaborn as sns\n",
    "from sklearn.utils import shuffle\n",
    "from sklearn.model_selection import train_test_split\n",
    "from keras.layers import Input, LSTM, Embedding, Dense\n",
    "from keras.models import Model\n",
    "\n",
    "print(os.listdir(\"../input\"))\n",
    "\n",
    "pd.set_option('display.max_rows', 500)\n",
    "pd.set_option('display.max_columns', 500)\n",
    "pd.set_option('display.width', 1000)\n",
    "pd.set_option('display.max_colwidth', -1)\n",
    "\n",
    "# Any results you write to the current directory are saved as output."
   ]
  },
  {
   "cell_type": "code",
   "execution_count": 3,
   "metadata": {
    "execution": {
     "iopub.execute_input": "2022-07-28T10:25:22.935195Z",
     "iopub.status.busy": "2022-07-28T10:25:22.934724Z",
     "iopub.status.idle": "2022-07-28T10:25:24.181267Z",
     "shell.execute_reply": "2022-07-28T10:25:24.180053Z",
     "shell.execute_reply.started": "2022-07-28T10:25:22.935166Z"
    }
   },
   "outputs": [],
   "source": [
    "lines=pd.read_csv(\"../input/hindienglish-corpora/Hindi_English_Truncated_Corpus.csv\",encoding='utf-8')"
   ]
  },
  {
   "cell_type": "code",
   "execution_count": 4,
   "metadata": {
    "execution": {
     "iopub.execute_input": "2022-07-28T10:25:34.290127Z",
     "iopub.status.busy": "2022-07-28T10:25:34.289770Z",
     "iopub.status.idle": "2022-07-28T10:25:34.329676Z",
     "shell.execute_reply": "2022-07-28T10:25:34.328395Z",
     "shell.execute_reply.started": "2022-07-28T10:25:34.290098Z"
    }
   },
   "outputs": [],
   "source": [
    "lines['source'].value_counts()"
   ]
  },
  {
   "cell_type": "code",
   "execution_count": 5,
   "metadata": {
    "execution": {
     "iopub.execute_input": "2022-07-28T10:25:43.760400Z",
     "iopub.status.busy": "2022-07-28T10:25:43.759962Z",
     "iopub.status.idle": "2022-07-28T10:25:43.802233Z",
     "shell.execute_reply": "2022-07-28T10:25:43.801107Z",
     "shell.execute_reply.started": "2022-07-28T10:25:43.760354Z"
    }
   },
   "outputs": [],
   "source": [
    "lines=lines[lines['source']=='ted']"
   ]
  },
  {
   "cell_type": "code",
   "execution_count": 6,
   "metadata": {
    "execution": {
     "iopub.execute_input": "2022-07-28T10:26:03.119065Z",
     "iopub.status.busy": "2022-07-28T10:26:03.118706Z",
     "iopub.status.idle": "2022-07-28T10:26:03.142174Z",
     "shell.execute_reply": "2022-07-28T10:26:03.140928Z",
     "shell.execute_reply.started": "2022-07-28T10:26:03.119037Z"
    }
   },
   "outputs": [],
   "source": [
    "lines.head(20)"
   ]
  },
  {
   "cell_type": "code",
   "execution_count": 7,
   "metadata": {
    "execution": {
     "iopub.execute_input": "2022-07-28T10:26:16.505072Z",
     "iopub.status.busy": "2022-07-28T10:26:16.504102Z",
     "iopub.status.idle": "2022-07-28T10:26:16.528045Z",
     "shell.execute_reply": "2022-07-28T10:26:16.526789Z",
     "shell.execute_reply.started": "2022-07-28T10:26:16.505026Z"
    }
   },
   "outputs": [],
   "source": [
    "pd.isnull(lines).sum()"
   ]
  },
  {
   "cell_type": "code",
   "execution_count": 8,
   "metadata": {
    "execution": {
     "iopub.execute_input": "2022-07-28T10:26:24.599803Z",
     "iopub.status.busy": "2022-07-28T10:26:24.599404Z",
     "iopub.status.idle": "2022-07-28T10:26:24.617160Z",
     "shell.execute_reply": "2022-07-28T10:26:24.615889Z",
     "shell.execute_reply.started": "2022-07-28T10:26:24.599774Z"
    }
   },
   "outputs": [],
   "source": [
    "lines=lines[~pd.isnull(lines['hindi_sentence'])]"
   ]
  },
  {
   "cell_type": "code",
   "execution_count": 9,
   "metadata": {
    "execution": {
     "iopub.execute_input": "2022-07-28T10:26:32.319991Z",
     "iopub.status.busy": "2022-07-28T10:26:32.319417Z",
     "iopub.status.idle": "2022-07-28T10:26:32.372253Z",
     "shell.execute_reply": "2022-07-28T10:26:32.371131Z",
     "shell.execute_reply.started": "2022-07-28T10:26:32.319960Z"
    }
   },
   "outputs": [],
   "source": [
    "lines.drop_duplicates(inplace=True)\n"
   ]
  },
  {
   "cell_type": "code",
   "execution_count": 10,
   "metadata": {
    "execution": {
     "iopub.execute_input": "2022-07-28T10:26:40.571155Z",
     "iopub.status.busy": "2022-07-28T10:26:40.570486Z",
     "iopub.status.idle": "2022-07-28T10:26:40.591968Z",
     "shell.execute_reply": "2022-07-28T10:26:40.590815Z",
     "shell.execute_reply.started": "2022-07-28T10:26:40.571110Z"
    }
   },
   "outputs": [],
   "source": [
    "lines=lines.sample(n=25000,random_state=42)\n",
    "lines.shape"
   ]
  },
  {
   "cell_type": "code",
   "execution_count": 11,
   "metadata": {
    "execution": {
     "iopub.execute_input": "2022-07-28T10:26:48.461010Z",
     "iopub.status.busy": "2022-07-28T10:26:48.460447Z",
     "iopub.status.idle": "2022-07-28T10:26:48.519666Z",
     "shell.execute_reply": "2022-07-28T10:26:48.518231Z",
     "shell.execute_reply.started": "2022-07-28T10:26:48.460970Z"
    }
   },
   "outputs": [],
   "source": [
    "# Lowercase all characters\n",
    "lines['hindi_sentence']=lines['hindi_sentence'].apply(lambda x: x.lower())\n",
    "lines['english_sentence']=lines['english_sentence'].apply(lambda x: x.lower())"
   ]
  },
  {
   "cell_type": "code",
   "execution_count": 12,
   "metadata": {
    "execution": {
     "iopub.execute_input": "2022-07-28T10:26:55.045166Z",
     "iopub.status.busy": "2022-07-28T10:26:55.044796Z",
     "iopub.status.idle": "2022-07-28T10:26:55.133031Z",
     "shell.execute_reply": "2022-07-28T10:26:55.131563Z",
     "shell.execute_reply.started": "2022-07-28T10:26:55.045137Z"
    }
   },
   "outputs": [],
   "source": [
    "# Remove quotes\n",
    "lines['hindi_sentence']=lines['hindi_sentence'].apply(lambda x: re.sub(\"'\", '', x))\n",
    "lines['english_sentence']=lines['english_sentence'].apply(lambda x: re.sub(\"'\", '', x))"
   ]
  },
  {
   "cell_type": "code",
   "execution_count": 13,
   "metadata": {
    "execution": {
     "iopub.execute_input": "2022-07-28T10:27:02.810187Z",
     "iopub.status.busy": "2022-07-28T10:27:02.809761Z",
     "iopub.status.idle": "2022-07-28T10:27:03.125454Z",
     "shell.execute_reply": "2022-07-28T10:27:03.124303Z",
     "shell.execute_reply.started": "2022-07-28T10:27:02.810155Z"
    }
   },
   "outputs": [],
   "source": [
    "exclude = set(string.punctuation) # Set of all special characters\n",
    "# Remove all the special characters\n",
    "lines['hindi_sentence']=lines['hindi_sentence'].apply(lambda x: ''.join(ch for ch in x if ch not in exclude))\n",
    "lines['english_sentence']=lines['english_sentence'].apply(lambda x: ''.join(ch for ch in x if ch not in exclude))"
   ]
  },
  {
   "cell_type": "code",
   "execution_count": 14,
   "metadata": {
    "execution": {
     "iopub.execute_input": "2022-07-28T10:27:09.194636Z",
     "iopub.status.busy": "2022-07-28T10:27:09.194175Z",
     "iopub.status.idle": "2022-07-28T10:27:09.664701Z",
     "shell.execute_reply": "2022-07-28T10:27:09.663547Z",
     "shell.execute_reply.started": "2022-07-28T10:27:09.194603Z"
    }
   },
   "outputs": [],
   "source": [
    "# Remove all numbers from text\n",
    "remove_digits = str.maketrans('', '', digits)\n",
    "lines['english_sentence']=lines['english_sentence'].apply(lambda x: x.translate(remove_digits))\n",
    "lines['hindi_sentence']=lines['hindi_sentence'].apply(lambda x: x.translate(remove_digits))\n",
    "\n",
    "lines['hindi_sentence'] = lines['hindi_sentence'].apply(lambda x: re.sub(\"[२३०८१५७९४६]\", \"\", x))\n",
    "\n",
    "# Remove extra spaces\n",
    "lines['english_sentence']=lines['english_sentence'].apply(lambda x: x.strip())\n",
    "lines['hindi_sentence']=lines['hindi_sentence'].apply(lambda x: x.strip())\n",
    "lines['english_sentence']=lines['english_sentence'].apply(lambda x: re.sub(\" +\", \" \", x))\n",
    "lines['hindi_sentence']=lines['hindi_sentence'].apply(lambda x: re.sub(\" +\", \" \", x))\n"
   ]
  },
  {
   "cell_type": "code",
   "execution_count": 15,
   "metadata": {
    "execution": {
     "iopub.execute_input": "2022-07-28T10:27:15.719975Z",
     "iopub.status.busy": "2022-07-28T10:27:15.719625Z",
     "iopub.status.idle": "2022-07-28T10:27:15.739558Z",
     "shell.execute_reply": "2022-07-28T10:27:15.738437Z",
     "shell.execute_reply.started": "2022-07-28T10:27:15.719947Z"
    }
   },
   "outputs": [],
   "source": [
    "# Add start and end tokens to target sequences\n",
    "lines['english_sentence'] = lines['english_sentence'].apply(lambda x : 'START_ '+ x + ' _END')"
   ]
  },
  {
   "cell_type": "code",
   "execution_count": 16,
   "metadata": {
    "execution": {
     "iopub.execute_input": "2022-07-28T10:27:25.764928Z",
     "iopub.status.busy": "2022-07-28T10:27:25.764464Z",
     "iopub.status.idle": "2022-07-28T10:27:25.781219Z",
     "shell.execute_reply": "2022-07-28T10:27:25.779829Z",
     "shell.execute_reply.started": "2022-07-28T10:27:25.764901Z"
    }
   },
   "outputs": [],
   "source": [
    "lines.head()"
   ]
  },
  {
   "cell_type": "code",
   "execution_count": 17,
   "metadata": {
    "execution": {
     "iopub.execute_input": "2022-07-28T10:27:36.370464Z",
     "iopub.status.busy": "2022-07-28T10:27:36.370065Z",
     "iopub.status.idle": "2022-07-28T10:27:36.501717Z",
     "shell.execute_reply": "2022-07-28T10:27:36.500587Z",
     "shell.execute_reply.started": "2022-07-28T10:27:36.370435Z"
    }
   },
   "outputs": [],
   "source": [
    "### Get English and Hindi Vocabulary\n",
    "all_eng_words=set()\n",
    "for eng in lines['english_sentence']:\n",
    "    for word in eng.split():\n",
    "        if word not in all_eng_words:\n",
    "            all_eng_words.add(word)\n",
    "\n",
    "all_hindi_words=set()\n",
    "for hin in lines['hindi_sentence']:\n",
    "    for word in hin.split():\n",
    "        if word not in all_hindi_words:\n",
    "            all_hindi_words.add(word)"
   ]
  },
  {
   "cell_type": "code",
   "execution_count": 18,
   "metadata": {
    "execution": {
     "iopub.execute_input": "2022-07-28T10:27:42.324111Z",
     "iopub.status.busy": "2022-07-28T10:27:42.323749Z",
     "iopub.status.idle": "2022-07-28T10:27:42.332647Z",
     "shell.execute_reply": "2022-07-28T10:27:42.331306Z",
     "shell.execute_reply.started": "2022-07-28T10:27:42.324083Z"
    }
   },
   "outputs": [],
   "source": [
    "len(all_eng_words)"
   ]
  },
  {
   "cell_type": "code",
   "execution_count": 19,
   "metadata": {
    "execution": {
     "iopub.execute_input": "2022-07-28T10:28:24.731121Z",
     "iopub.status.busy": "2022-07-28T10:28:24.730728Z",
     "iopub.status.idle": "2022-07-28T10:28:24.740348Z",
     "shell.execute_reply": "2022-07-28T10:28:24.738591Z",
     "shell.execute_reply.started": "2022-07-28T10:28:24.731089Z"
    }
   },
   "outputs": [],
   "source": [
    "len(all_hindi_words)"
   ]
  },
  {
   "cell_type": "code",
   "execution_count": 20,
   "metadata": {
    "execution": {
     "iopub.execute_input": "2022-07-28T10:28:33.594897Z",
     "iopub.status.busy": "2022-07-28T10:28:33.594486Z",
     "iopub.status.idle": "2022-07-28T10:28:33.663717Z",
     "shell.execute_reply": "2022-07-28T10:28:33.662563Z",
     "shell.execute_reply.started": "2022-07-28T10:28:33.594862Z"
    }
   },
   "outputs": [],
   "source": [
    "lines['length_eng_sentence']=lines['english_sentence'].apply(lambda x:len(x.split(\" \")))\n",
    "lines['length_hin_sentence']=lines['hindi_sentence'].apply(lambda x:len(x.split(\" \")))"
   ]
  },
  {
   "cell_type": "code",
   "execution_count": 21,
   "metadata": {
    "execution": {
     "iopub.execute_input": "2022-07-28T10:28:42.624875Z",
     "iopub.status.busy": "2022-07-28T10:28:42.624497Z",
     "iopub.status.idle": "2022-07-28T10:28:42.639513Z",
     "shell.execute_reply": "2022-07-28T10:28:42.638073Z",
     "shell.execute_reply.started": "2022-07-28T10:28:42.624847Z"
    }
   },
   "outputs": [],
   "source": [
    "lines.head()"
   ]
  },
  {
   "cell_type": "code",
   "execution_count": 23,
   "metadata": {
    "execution": {
     "iopub.execute_input": "2022-07-28T10:28:52.548890Z",
     "iopub.status.busy": "2022-07-28T10:28:52.548483Z",
     "iopub.status.idle": "2022-07-28T10:28:52.558951Z",
     "shell.execute_reply": "2022-07-28T10:28:52.557697Z",
     "shell.execute_reply.started": "2022-07-28T10:28:52.548861Z"
    }
   },
   "outputs": [],
   "source": [
    "lines[lines['length_hin_sentence']>30].shape"
   ]
  },
  {
   "cell_type": "code",
   "execution_count": 24,
   "metadata": {
    "execution": {
     "iopub.execute_input": "2022-07-28T10:29:01.695130Z",
     "iopub.status.busy": "2022-07-28T10:29:01.694665Z",
     "iopub.status.idle": "2022-07-28T10:29:01.710694Z",
     "shell.execute_reply": "2022-07-28T10:29:01.709285Z",
     "shell.execute_reply.started": "2022-07-28T10:29:01.695102Z"
    }
   },
   "outputs": [],
   "source": [
    "lines.shape"
   ]
  },
  {
   "cell_type": "code",
   "execution_count": 25,
   "metadata": {
    "execution": {
     "iopub.execute_input": "2022-07-28T10:29:10.679700Z",
     "iopub.status.busy": "2022-07-28T10:29:10.679208Z",
     "iopub.status.idle": "2022-07-28T10:29:10.696837Z",
     "shell.execute_reply": "2022-07-28T10:29:10.695612Z",
     "shell.execute_reply.started": "2022-07-28T10:29:10.679671Z"
    }
   },
   "outputs": [],
   "source": [
    "print(\"maximum length of Hindi Sentence \",max(lines['length_hin_sentence']))\n",
    "print(\"maximum length of English Sentence \",max(lines['length_eng_sentence']))"
   ]
  },
  {
   "cell_type": "code",
   "execution_count": 26,
   "metadata": {
    "execution": {
     "iopub.execute_input": "2022-07-28T10:29:21.569894Z",
     "iopub.status.busy": "2022-07-28T10:29:21.569520Z",
     "iopub.status.idle": "2022-07-28T10:29:21.583879Z",
     "shell.execute_reply": "2022-07-28T10:29:21.582577Z",
     "shell.execute_reply.started": "2022-07-28T10:29:21.569851Z"
    }
   },
   "outputs": [],
   "source": [
    "max_length_src=max(lines['length_hin_sentence'])\n",
    "max_length_tar=max(lines['length_eng_sentence'])"
   ]
  },
  {
   "cell_type": "code",
   "execution_count": 27,
   "metadata": {
    "execution": {
     "iopub.execute_input": "2022-07-28T10:29:29.614063Z",
     "iopub.status.busy": "2022-07-28T10:29:29.613695Z",
     "iopub.status.idle": "2022-07-28T10:29:29.643639Z",
     "shell.execute_reply": "2022-07-28T10:29:29.642165Z",
     "shell.execute_reply.started": "2022-07-28T10:29:29.614036Z"
    }
   },
   "outputs": [],
   "source": [
    "input_words = sorted(list(all_hindi_words))\n",
    "target_words = sorted(list(all_eng_words))\n",
    "num_encoder_tokens = len(all_hindi_words)\n",
    "num_decoder_tokens = len(all_eng_words)\n",
    "num_encoder_tokens, num_decoder_tokens"
   ]
  },
  {
   "cell_type": "code",
   "execution_count": 28,
   "metadata": {
    "execution": {
     "iopub.execute_input": "2022-07-28T10:29:40.894497Z",
     "iopub.status.busy": "2022-07-28T10:29:40.894027Z",
     "iopub.status.idle": "2022-07-28T10:29:40.900734Z",
     "shell.execute_reply": "2022-07-28T10:29:40.899358Z",
     "shell.execute_reply.started": "2022-07-28T10:29:40.894452Z"
    }
   },
   "outputs": [],
   "source": [
    "num_decoder_tokens += 1 #for zero padding"
   ]
  },
  {
   "cell_type": "code",
   "execution_count": 29,
   "metadata": {
    "execution": {
     "iopub.execute_input": "2022-07-28T10:30:13.109615Z",
     "iopub.status.busy": "2022-07-28T10:30:13.109195Z",
     "iopub.status.idle": "2022-07-28T10:30:13.132453Z",
     "shell.execute_reply": "2022-07-28T10:30:13.131396Z",
     "shell.execute_reply.started": "2022-07-28T10:30:13.109588Z"
    }
   },
   "outputs": [],
   "source": [
    "input_token_index = dict([(word, i+1) for i, word in enumerate(input_words)])\n",
    "target_token_index = dict([(word, i+1) for i, word in enumerate(target_words)])"
   ]
  },
  {
   "cell_type": "code",
   "execution_count": 30,
   "metadata": {
    "execution": {
     "iopub.execute_input": "2022-07-28T10:30:20.646426Z",
     "iopub.status.busy": "2022-07-28T10:30:20.645929Z",
     "iopub.status.idle": "2022-07-28T10:30:20.661967Z",
     "shell.execute_reply": "2022-07-28T10:30:20.660789Z",
     "shell.execute_reply.started": "2022-07-28T10:30:20.646396Z"
    }
   },
   "outputs": [],
   "source": [
    "reverse_input_char_index = dict((i, word) for word, i in input_token_index.items())\n",
    "reverse_target_char_index = dict((i, word) for word, i in target_token_index.items())"
   ]
  },
  {
   "cell_type": "code",
   "execution_count": 31,
   "metadata": {
    "execution": {
     "iopub.execute_input": "2022-07-28T10:30:27.313844Z",
     "iopub.status.busy": "2022-07-28T10:30:27.313395Z",
     "iopub.status.idle": "2022-07-28T10:30:27.336548Z",
     "shell.execute_reply": "2022-07-28T10:30:27.335212Z",
     "shell.execute_reply.started": "2022-07-28T10:30:27.313812Z"
    }
   },
   "outputs": [],
   "source": [
    "lines = shuffle(lines)\n",
    "lines.head(10)"
   ]
  },
  {
   "cell_type": "code",
   "execution_count": 32,
   "metadata": {
    "execution": {
     "iopub.execute_input": "2022-07-28T10:30:37.135538Z",
     "iopub.status.busy": "2022-07-28T10:30:37.134970Z",
     "iopub.status.idle": "2022-07-28T10:30:37.156237Z",
     "shell.execute_reply": "2022-07-28T10:30:37.155046Z",
     "shell.execute_reply.started": "2022-07-28T10:30:37.135487Z"
    }
   },
   "outputs": [],
   "source": [
    "X, y = lines['hindi_sentence'], lines['english_sentence']\n",
    "X_train, X_test, y_train, y_test = train_test_split(X, y, test_size = 0.2,random_state=42)\n",
    "X_train.shape, X_test.shape"
   ]
  },
  {
   "cell_type": "code",
   "execution_count": 33,
   "metadata": {
    "execution": {
     "iopub.execute_input": "2022-07-28T10:30:47.784879Z",
     "iopub.status.busy": "2022-07-28T10:30:47.784517Z",
     "iopub.status.idle": "2022-07-28T10:30:47.811362Z",
     "shell.execute_reply": "2022-07-28T10:30:47.810277Z",
     "shell.execute_reply.started": "2022-07-28T10:30:47.784851Z"
    }
   },
   "outputs": [],
   "source": [
    "X_train.to_pickle('X_train.pkl')\n",
    "X_test.to_pickle('X_test.pkl')"
   ]
  },
  {
   "cell_type": "code",
   "execution_count": 54,
   "metadata": {
    "execution": {
     "iopub.execute_input": "2022-07-28T12:30:10.392473Z",
     "iopub.status.busy": "2022-07-28T12:30:10.391981Z",
     "iopub.status.idle": "2022-07-28T12:30:10.403610Z",
     "shell.execute_reply": "2022-07-28T12:30:10.402102Z",
     "shell.execute_reply.started": "2022-07-28T12:30:10.392441Z"
    }
   },
   "outputs": [],
   "source": [
    "X_train"
   ]
  },
  {
   "cell_type": "markdown",
   "metadata": {},
   "source": []
  },
  {
   "cell_type": "markdown",
   "metadata": {},
   "source": [
    "### Encoder-Decoder Architecture"
   ]
  },
  {
   "cell_type": "code",
   "execution_count": 34,
   "metadata": {
    "execution": {
     "iopub.execute_input": "2022-07-28T10:30:59.569160Z",
     "iopub.status.busy": "2022-07-28T10:30:59.568730Z",
     "iopub.status.idle": "2022-07-28T10:30:59.583531Z",
     "shell.execute_reply": "2022-07-28T10:30:59.581807Z",
     "shell.execute_reply.started": "2022-07-28T10:30:59.569130Z"
    }
   },
   "outputs": [],
   "source": [
    "def generate_batch(X = X_train, y = y_train, batch_size = 128):\n",
    "    ''' Generate a batch of data '''\n",
    "    while True:\n",
    "        for j in range(0, len(X), batch_size):\n",
    "            encoder_input_data = np.zeros((batch_size, max_length_src),dtype='float32')\n",
    "            decoder_input_data = np.zeros((batch_size, max_length_tar),dtype='float32')\n",
    "            decoder_target_data = np.zeros((batch_size, max_length_tar, num_decoder_tokens),dtype='float32')\n",
    "            for i, (input_text, target_text) in enumerate(zip(X[j:j+batch_size], y[j:j+batch_size])):\n",
    "                for t, word in enumerate(input_text.split()):\n",
    "                    encoder_input_data[i, t] = input_token_index[word] # encoder input seq\n",
    "                for t, word in enumerate(target_text.split()):\n",
    "                    if t<len(target_text.split())-1:\n",
    "                        decoder_input_data[i, t] = target_token_index[word] # decoder input seq\n",
    "                    if t>0:\n",
    "                        # decoder target sequence (one hot encoded)\n",
    "                        # does not include the START_ token\n",
    "                        # Offset by one timestep\n",
    "                        decoder_target_data[i, t - 1, target_token_index[word]] = 1.\n",
    "            yield([encoder_input_data, decoder_input_data], decoder_target_data)"
   ]
  },
  {
   "cell_type": "code",
   "execution_count": 35,
   "metadata": {
    "execution": {
     "iopub.execute_input": "2022-07-28T10:31:07.514713Z",
     "iopub.status.busy": "2022-07-28T10:31:07.514301Z",
     "iopub.status.idle": "2022-07-28T10:31:07.519805Z",
     "shell.execute_reply": "2022-07-28T10:31:07.518550Z",
     "shell.execute_reply.started": "2022-07-28T10:31:07.514686Z"
    }
   },
   "outputs": [],
   "source": [
    "latent_dim=300"
   ]
  },
  {
   "cell_type": "code",
   "execution_count": 36,
   "metadata": {
    "execution": {
     "iopub.execute_input": "2022-07-28T10:34:26.955319Z",
     "iopub.status.busy": "2022-07-28T10:34:26.954727Z",
     "iopub.status.idle": "2022-07-28T10:34:31.487420Z",
     "shell.execute_reply": "2022-07-28T10:34:31.486068Z",
     "shell.execute_reply.started": "2022-07-28T10:34:26.955272Z"
    }
   },
   "outputs": [],
   "source": [
    "# Encoder\n",
    "encoder_inputs = Input(shape=(None,))\n",
    "enc_emb =  Embedding(num_encoder_tokens, latent_dim, mask_zero = True)(encoder_inputs)\n",
    "encoder_lstm = LSTM(latent_dim, return_state=True)\n",
    "encoder_outputs, state_h, state_c = encoder_lstm(enc_emb)\n",
    "# We discard `encoder_outputs` and only keep the states.\n",
    "encoder_states = [state_h, state_c]"
   ]
  },
  {
   "cell_type": "code",
   "execution_count": 37,
   "metadata": {
    "execution": {
     "iopub.execute_input": "2022-07-28T10:34:40.660194Z",
     "iopub.status.busy": "2022-07-28T10:34:40.659828Z",
     "iopub.status.idle": "2022-07-28T10:34:41.640623Z",
     "shell.execute_reply": "2022-07-28T10:34:41.639427Z",
     "shell.execute_reply.started": "2022-07-28T10:34:40.660165Z"
    }
   },
   "outputs": [],
   "source": [
    "# Set up the decoder, using `encoder_states` as initial state.\n",
    "decoder_inputs = Input(shape=(None,))\n",
    "dec_emb_layer = Embedding(num_decoder_tokens, latent_dim, mask_zero = True)\n",
    "dec_emb = dec_emb_layer(decoder_inputs)\n",
    "# We set up our decoder to return full output sequences,\n",
    "# and to return internal states as well. We don't use the\n",
    "# return states in the training model, but we will use them in inference.\n",
    "decoder_lstm = LSTM(latent_dim, return_sequences=True, return_state=True)\n",
    "decoder_outputs, _, _ = decoder_lstm(dec_emb,\n",
    "                                     initial_state=encoder_states)\n",
    "decoder_dense = Dense(num_decoder_tokens, activation='softmax')\n",
    "decoder_outputs = decoder_dense(decoder_outputs)\n",
    "\n",
    "# Define the model that will turn\n",
    "# `encoder_input_data` & `decoder_input_data` into `decoder_target_data`\n",
    "model = Model([encoder_inputs, decoder_inputs], decoder_outputs)"
   ]
  },
  {
   "cell_type": "code",
   "execution_count": 38,
   "metadata": {
    "execution": {
     "iopub.execute_input": "2022-07-28T10:36:14.260135Z",
     "iopub.status.busy": "2022-07-28T10:36:14.259768Z",
     "iopub.status.idle": "2022-07-28T10:36:15.419512Z",
     "shell.execute_reply": "2022-07-28T10:36:15.418118Z",
     "shell.execute_reply.started": "2022-07-28T10:36:14.260091Z"
    }
   },
   "outputs": [],
   "source": [
    "# Set up the decoder, using `encoder_states` as initial state.\n",
    "decoder_inputs = Input(shape=(None,))\n",
    "dec_emb_layer = Embedding(num_decoder_tokens, latent_dim, mask_zero = True)\n",
    "dec_emb = dec_emb_layer(decoder_inputs)\n",
    "# We set up our decoder to return full output sequences,\n",
    "# and to return internal states as well. We don't use the\n",
    "# return states in the training model, but we will use them in inference.\n",
    "decoder_lstm = LSTM(latent_dim, return_sequences=True, return_state=True)\n",
    "decoder_outputs, _, _ = decoder_lstm(dec_emb,\n",
    "                                     initial_state=encoder_states)\n",
    "decoder_dense = Dense(num_decoder_tokens, activation='softmax')\n",
    "decoder_outputs = decoder_dense(decoder_outputs)\n",
    "\n",
    "# Define the model that will turn\n",
    "# `encoder_input_data` & `decoder_input_data` into `decoder_target_data`\n",
    "model = Model([encoder_inputs, decoder_inputs], decoder_outputs)"
   ]
  },
  {
   "cell_type": "code",
   "execution_count": 39,
   "metadata": {
    "execution": {
     "iopub.execute_input": "2022-07-28T10:36:23.874717Z",
     "iopub.status.busy": "2022-07-28T10:36:23.874316Z",
     "iopub.status.idle": "2022-07-28T10:36:23.895265Z",
     "shell.execute_reply": "2022-07-28T10:36:23.893568Z",
     "shell.execute_reply.started": "2022-07-28T10:36:23.874689Z"
    }
   },
   "outputs": [],
   "source": [
    "model.compile(optimizer='rmsprop', loss='categorical_crossentropy')"
   ]
  },
  {
   "cell_type": "code",
   "execution_count": 40,
   "metadata": {
    "execution": {
     "iopub.execute_input": "2022-07-28T10:36:31.754429Z",
     "iopub.status.busy": "2022-07-28T10:36:31.753946Z",
     "iopub.status.idle": "2022-07-28T10:36:31.776531Z",
     "shell.execute_reply": "2022-07-28T10:36:31.774409Z",
     "shell.execute_reply.started": "2022-07-28T10:36:31.754353Z"
    }
   },
   "outputs": [],
   "source": [
    "model.summary()"
   ]
  },
  {
   "cell_type": "code",
   "execution_count": 41,
   "metadata": {
    "execution": {
     "iopub.execute_input": "2022-07-28T10:36:59.379122Z",
     "iopub.status.busy": "2022-07-28T10:36:59.378743Z",
     "iopub.status.idle": "2022-07-28T10:36:59.384942Z",
     "shell.execute_reply": "2022-07-28T10:36:59.383486Z",
     "shell.execute_reply.started": "2022-07-28T10:36:59.379093Z"
    }
   },
   "outputs": [],
   "source": [
    "train_samples = len(X_train)\n",
    "val_samples = len(X_test)\n",
    "batch_size = 128\n",
    "epochs = 100"
   ]
  },
  {
   "cell_type": "code",
   "execution_count": 42,
   "metadata": {
    "execution": {
     "iopub.execute_input": "2022-07-28T10:37:07.324773Z",
     "iopub.status.busy": "2022-07-28T10:37:07.324383Z",
     "iopub.status.idle": "2022-07-28T11:57:36.794135Z",
     "shell.execute_reply": "2022-07-28T11:57:36.792753Z",
     "shell.execute_reply.started": "2022-07-28T10:37:07.324745Z"
    }
   },
   "outputs": [],
   "source": [
    "model.fit_generator(generator = generate_batch(X_train, y_train, batch_size = batch_size),\n",
    "                    steps_per_epoch = train_samples//batch_size,\n",
    "                    epochs=epochs,\n",
    "                    validation_data = generate_batch(X_test, y_test, batch_size = batch_size),\n",
    "                    validation_steps = val_samples//batch_size)\n",
    "\n"
   ]
  },
  {
   "cell_type": "code",
   "execution_count": 43,
   "metadata": {
    "execution": {
     "iopub.execute_input": "2022-07-28T12:15:50.749343Z",
     "iopub.status.busy": "2022-07-28T12:15:50.748903Z",
     "iopub.status.idle": "2022-07-28T12:15:50.885351Z",
     "shell.execute_reply": "2022-07-28T12:15:50.884128Z",
     "shell.execute_reply.started": "2022-07-28T12:15:50.749314Z"
    }
   },
   "outputs": [],
   "source": [
    "model.save_weights('nmt_weights.h5')"
   ]
  },
  {
   "cell_type": "code",
   "execution_count": 44,
   "metadata": {
    "execution": {
     "iopub.execute_input": "2022-07-28T12:17:37.324415Z",
     "iopub.status.busy": "2022-07-28T12:17:37.324000Z",
     "iopub.status.idle": "2022-07-28T12:17:37.540437Z",
     "shell.execute_reply": "2022-07-28T12:17:37.539161Z",
     "shell.execute_reply.started": "2022-07-28T12:17:37.324386Z"
    }
   },
   "outputs": [],
   "source": [
    "model.save('nmt_model.h5')"
   ]
  },
  {
   "cell_type": "code",
   "execution_count": 45,
   "metadata": {
    "execution": {
     "iopub.execute_input": "2022-07-28T12:18:05.404738Z",
     "iopub.status.busy": "2022-07-28T12:18:05.404237Z",
     "iopub.status.idle": "2022-07-28T12:18:06.571930Z",
     "shell.execute_reply": "2022-07-28T12:18:06.570760Z",
     "shell.execute_reply.started": "2022-07-28T12:18:05.404709Z"
    }
   },
   "outputs": [],
   "source": [
    "# Encode the input sequence to get the \"thought vectors\"\n",
    "encoder_model = Model(encoder_inputs, encoder_states)\n",
    "\n",
    "# Decoder setup\n",
    "# Below tensors will hold the states of the previous time step\n",
    "decoder_state_input_h = Input(shape=(latent_dim,))\n",
    "decoder_state_input_c = Input(shape=(latent_dim,))\n",
    "decoder_states_inputs = [decoder_state_input_h, decoder_state_input_c]\n",
    "\n",
    "dec_emb2= dec_emb_layer(decoder_inputs) # Get the embeddings of the decoder sequence\n",
    "\n",
    "# To predict the next word in the sequence, set the initial states to the states from the previous time step\n",
    "decoder_outputs2, state_h2, state_c2 = decoder_lstm(dec_emb2, initial_state=decoder_states_inputs)\n",
    "decoder_states2 = [state_h2, state_c2]\n",
    "decoder_outputs2 = decoder_dense(decoder_outputs2) # A dense softmax layer to generate prob dist. over the target vocabulary\n",
    "\n",
    "# Final decoder model\n",
    "decoder_model = Model(\n",
    "    [decoder_inputs] + decoder_states_inputs,\n",
    "    [decoder_outputs2] + decoder_states2)\n"
   ]
  },
  {
   "cell_type": "code",
   "execution_count": 55,
   "metadata": {
    "execution": {
     "iopub.execute_input": "2022-07-28T12:35:37.607796Z",
     "iopub.status.busy": "2022-07-28T12:35:37.607252Z",
     "iopub.status.idle": "2022-07-28T12:35:37.669764Z",
     "shell.execute_reply": "2022-07-28T12:35:37.668489Z",
     "shell.execute_reply.started": "2022-07-28T12:35:37.607768Z"
    }
   },
   "outputs": [],
   "source": []
  },
  {
   "cell_type": "code",
   "execution_count": 56,
   "metadata": {
    "execution": {
     "iopub.execute_input": "2022-07-28T12:37:02.920782Z",
     "iopub.status.busy": "2022-07-28T12:37:02.920163Z",
     "iopub.status.idle": "2022-07-28T12:37:03.030957Z",
     "shell.execute_reply": "2022-07-28T12:37:03.029504Z",
     "shell.execute_reply.started": "2022-07-28T12:37:02.920738Z"
    }
   },
   "outputs": [],
   "source": []
  },
  {
   "cell_type": "code",
   "execution_count": 46,
   "metadata": {
    "execution": {
     "iopub.execute_input": "2022-07-28T12:18:13.470611Z",
     "iopub.status.busy": "2022-07-28T12:18:13.469765Z",
     "iopub.status.idle": "2022-07-28T12:18:13.487443Z",
     "shell.execute_reply": "2022-07-28T12:18:13.485997Z",
     "shell.execute_reply.started": "2022-07-28T12:18:13.470540Z"
    }
   },
   "outputs": [],
   "source": [
    "def decode_sequence(input_seq):\n",
    "    # Encode the input as state vectors.\n",
    "    states_value = encoder_model.predict(input_seq)\n",
    "    # Generate empty target sequence of length 1.\n",
    "    target_seq = np.zeros((1,1))\n",
    "    # Populate the first character of target sequence with the start character.\n",
    "    target_seq[0, 0] = target_token_index['START_']\n",
    "\n",
    "    # Sampling loop for a batch of sequences\n",
    "    # (to simplify, here we assume a batch of size 1).\n",
    "    stop_condition = False\n",
    "    decoded_sentence = ''\n",
    "    while not stop_condition:\n",
    "        output_tokens, h, c = decoder_model.predict([target_seq] + states_value)\n",
    "\n",
    "        # Sample a token\n",
    "        sampled_token_index = np.argmax(output_tokens[0, -1, :])\n",
    "        sampled_char = reverse_target_char_index[sampled_token_index]\n",
    "        decoded_sentence += ' '+sampled_char\n",
    "\n",
    "        # Exit condition: either hit max length\n",
    "        # or find stop character.\n",
    "        if (sampled_char == '_END' or\n",
    "           len(decoded_sentence) > 50):\n",
    "            stop_condition = True\n",
    "\n",
    "        # Update the target sequence (of length 1).\n",
    "        target_seq = np.zeros((1,1))\n",
    "        target_seq[0, 0] = sampled_token_index\n",
    "\n",
    "        # Update states\n",
    "        states_value = [h, c]\n",
    "\n",
    "    return decoded_sentence"
   ]
  },
  {
   "cell_type": "code",
   "execution_count": 47,
   "metadata": {
    "execution": {
     "iopub.execute_input": "2022-07-28T12:18:23.704800Z",
     "iopub.status.busy": "2022-07-28T12:18:23.704098Z",
     "iopub.status.idle": "2022-07-28T12:18:23.710476Z",
     "shell.execute_reply": "2022-07-28T12:18:23.708953Z",
     "shell.execute_reply.started": "2022-07-28T12:18:23.704768Z"
    }
   },
   "outputs": [],
   "source": [
    "train_gen = generate_batch(X_train, y_train, batch_size = 1)\n",
    "k=-1\n"
   ]
  },
  {
   "cell_type": "code",
   "execution_count": 51,
   "metadata": {
    "execution": {
     "iopub.execute_input": "2022-07-28T12:19:27.344507Z",
     "iopub.status.busy": "2022-07-28T12:19:27.344093Z",
     "iopub.status.idle": "2022-07-28T12:19:27.912159Z",
     "shell.execute_reply": "2022-07-28T12:19:27.910977Z",
     "shell.execute_reply.started": "2022-07-28T12:19:27.344477Z"
    }
   },
   "outputs": [],
   "source": [
    "k+=1\n",
    "(input_seq, actual_output), _ = next(train_gen)\n",
    "decoded_sentence = decode_sequence(input_seq)\n",
    "print('Input Hindi sentence:', X_train[k:k+1].values[0])\n",
    "print('Actual English Translation:', y_train[k:k+1].values[0][6:-4])\n",
    "print('Predicted English Translation:', decoded_sentence[:-4])"
   ]
  },
  {
   "cell_type": "code",
   "execution_count": 52,
   "metadata": {
    "execution": {
     "iopub.execute_input": "2022-07-28T12:28:41.503946Z",
     "iopub.status.busy": "2022-07-28T12:28:41.503209Z",
     "iopub.status.idle": "2022-07-28T12:28:41.511194Z",
     "shell.execute_reply": "2022-07-28T12:28:41.509697Z",
     "shell.execute_reply.started": "2022-07-28T12:28:41.503911Z"
    }
   },
   "outputs": [],
   "source": [
    "(input_seq, actual_output), _ = next(train_gen)\n"
   ]
  },
  {
   "cell_type": "code",
   "execution_count": 53,
   "metadata": {
    "execution": {
     "iopub.execute_input": "2022-07-28T12:28:48.553658Z",
     "iopub.status.busy": "2022-07-28T12:28:48.553070Z",
     "iopub.status.idle": "2022-07-28T12:28:48.563940Z",
     "shell.execute_reply": "2022-07-28T12:28:48.562333Z",
     "shell.execute_reply.started": "2022-07-28T12:28:48.553624Z"
    }
   },
   "outputs": [],
   "source": [
    "input_seq"
   ]
  },
  {
   "cell_type": "code",
   "execution_count": null,
   "metadata": {},
   "outputs": [],
   "source": [
    "k+=1\n",
    "(input_seq, actual_output), _ = next(train_gen)\n",
    "decoded_sentence = decode_sequence(input_seq)\n",
    "print('Input Hindi sentence:', X_train[k:k+1].values[0])\n",
    "print('Actual English Translation:', y_train[k:k+1].values[0][6:-4])\n",
    "print('Predicted English Translation:', decoded_sentence[:-4])"
   ]
  },
  {
   "cell_type": "code",
   "execution_count": null,
   "metadata": {},
   "outputs": [],
   "source": []
  }
 ],
 "metadata": {
  "kernelspec": {
   "display_name": "Python 3 (ipykernel)",
   "language": "python",
   "name": "python3"
  },
  "language_info": {
   "codemirror_mode": {
    "name": "ipython",
    "version": 3
   },
   "file_extension": ".py",
   "mimetype": "text/x-python",
   "name": "python",
   "nbconvert_exporter": "python",
   "pygments_lexer": "ipython3",
   "version": "3.9.2"
  }
 },
 "nbformat": 4,
 "nbformat_minor": 4
}
